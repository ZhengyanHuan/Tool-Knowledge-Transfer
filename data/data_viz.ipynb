{
 "cells": [
  {
   "cell_type": "code",
   "execution_count": 1,
   "id": "initial_id",
   "metadata": {
    "collapsed": true,
    "ExecuteTime": {
     "end_time": "2024-11-27T14:52:35.307294Z",
     "start_time": "2024-11-27T14:52:35.250908Z"
    }
   },
   "outputs": [],
   "source": [
    "import pickle\n",
    "data_file = \"dataset_discretized.bin\"\n",
    "bin_file = open(data_file, 'rb')\n",
    "robot = pickle.load(bin_file)\n",
    "bin_file.close()\n",
    "\n",
    "data_file_path = \"dataset_metadata.bin\"\n",
    "bin_file = open(data_file_path, 'rb')\n",
    "metadata = pickle.load(bin_file)\n",
    "bin_file.close()"
   ]
  },
  {
   "cell_type": "code",
   "execution_count": 35,
   "outputs": [],
   "source": [
    "def show_keys_levelwise(d, level=0, keys_by_level=None):\n",
    "    \"\"\"\n",
    "    Show keys level-wise from a nested dictionary.\n",
    "\n",
    "    Args:\n",
    "        d (dict): The nested dictionary.\n",
    "        level (int): Current level in the nested structure.\n",
    "        keys_by_level (dict): Dictionary to store keys for each level.\n",
    "    \"\"\"\n",
    "    if keys_by_level is None:\n",
    "        keys_by_level = {}\n",
    "    \n",
    "    if level not in keys_by_level:\n",
    "        keys_by_level[level] = set()\n",
    "        \n",
    "    if isinstance(d, dict):\n",
    "        for key in d:\n",
    "            keys_by_level[level].add(key)\n",
    "            show_keys_levelwise(d[key], level + 1, keys_by_level)\n",
    "\n",
    "    return keys_by_level"
   ],
   "metadata": {
    "collapsed": false,
    "ExecuteTime": {
     "end_time": "2024-11-27T15:11:30.545811Z",
     "start_time": "2024-11-27T15:11:30.544138Z"
    }
   },
   "id": "4f5b0ae9fceaff91"
  },
  {
   "cell_type": "code",
   "execution_count": 36,
   "outputs": [
    {
     "data": {
      "text/plain": "{0: {'1-look',\n  '2-stirring-slow',\n  '3-stirring-fast',\n  '4-stirring-twist',\n  '5-whisk',\n  '6-poke'},\n 1: {'metal-scissor',\n  'metal-whisk',\n  'plastic-knife',\n  'plastic-spoon',\n  'wooden-chopstick',\n  'wooden-fork'},\n 2: {'audio', 'effort', 'force'},\n 3: {'cane-sugar',\n  'chia-seed',\n  'chickpea',\n  'detergent',\n  'empty',\n  'glass-bead',\n  'kidney-bean',\n  'metal-nut-bolt',\n  'plastic-bead',\n  'salt',\n  'split-green-pea',\n  'styrofoam-bead',\n  'water',\n  'wheat',\n  'wooden-button'},\n 4: {'X', 'Y'},\n 5: set()}"
     },
     "execution_count": 36,
     "metadata": {},
     "output_type": "execute_result"
    }
   ],
   "source": [
    "show_keys_levelwise(robot)"
   ],
   "metadata": {
    "collapsed": false,
    "ExecuteTime": {
     "end_time": "2024-11-27T15:11:30.905057Z",
     "start_time": "2024-11-27T15:11:30.895423Z"
    }
   },
   "id": "b3887eb923fc00d"
  },
  {
   "cell_type": "code",
   "execution_count": 22,
   "outputs": [],
   "source": [
    "sample_audio_data = robot['3-stirring-fast']['metal-scissor']['audio']['water']\n",
    "sample_effort_data = robot['3-stirring-fast']['metal-scissor']['effort']['water']\n",
    "sample_force_data = robot['3-stirring-fast']['metal-scissor']['force']['water']"
   ],
   "metadata": {
    "collapsed": false,
    "ExecuteTime": {
     "end_time": "2024-11-27T15:00:54.149362Z",
     "start_time": "2024-11-27T15:00:54.147353Z"
    }
   },
   "id": "45de42ece1a8f53b"
  },
  {
   "cell_type": "code",
   "execution_count": 23,
   "outputs": [
    {
     "data": {
      "text/plain": "((10, 100),\n array([[12],\n        [12],\n        [12],\n        [12],\n        [12],\n        [12],\n        [12],\n        [12],\n        [12],\n        [12]], dtype=int32))"
     },
     "execution_count": 23,
     "metadata": {},
     "output_type": "execute_result"
    }
   ],
   "source": [
    "sample_audio_data['X'].shape, sample_audio_data['Y']  # flattened data for 10 trials, labels for 10 trials"
   ],
   "metadata": {
    "collapsed": false,
    "ExecuteTime": {
     "end_time": "2024-11-27T15:01:01.522707Z",
     "start_time": "2024-11-27T15:01:01.516900Z"
    }
   },
   "id": "d88346d1b435596f"
  },
  {
   "cell_type": "code",
   "execution_count": 24,
   "outputs": [
    {
     "data": {
      "text/plain": "((10, 60),\n array([[12],\n        [12],\n        [12],\n        [12],\n        [12],\n        [12],\n        [12],\n        [12],\n        [12],\n        [12]], dtype=int32))"
     },
     "execution_count": 24,
     "metadata": {},
     "output_type": "execute_result"
    }
   ],
   "source": [
    "sample_effort_data['X'].shape, sample_effort_data['Y']"
   ],
   "metadata": {
    "collapsed": false,
    "ExecuteTime": {
     "end_time": "2024-11-27T15:01:16.185922Z",
     "start_time": "2024-11-27T15:01:16.180085Z"
    }
   },
   "id": "7569e57cfaaaba06"
  },
  {
   "cell_type": "code",
   "execution_count": 25,
   "outputs": [
    {
     "data": {
      "text/plain": "((10, 30),\n array([[12],\n        [12],\n        [12],\n        [12],\n        [12],\n        [12],\n        [12],\n        [12],\n        [12],\n        [12]], dtype=int32))"
     },
     "execution_count": 25,
     "metadata": {},
     "output_type": "execute_result"
    }
   ],
   "source": [
    "sample_force_data['X'].shape, sample_force_data['Y']"
   ],
   "metadata": {
    "collapsed": false,
    "ExecuteTime": {
     "end_time": "2024-11-27T15:01:25.823055Z",
     "start_time": "2024-11-27T15:01:25.819133Z"
    }
   },
   "id": "22e0310a455f6de0"
  },
  {
   "cell_type": "code",
   "execution_count": 9,
   "outputs": [
    {
     "data": {
      "text/plain": "{0: {'1-look',\n  '2-stirring-slow',\n  '3-stirring-fast',\n  '4-stirring-twist',\n  '5-whisk',\n  '6-poke'},\n 1: {'modalities', 'objects', 'tools', 'trials'},\n 2: {'audio',\n  'camera_depth_image',\n  'camera_rgb_image',\n  'effort',\n  'force',\n  'gripper_joint_states',\n  'position',\n  'torque',\n  'touch_image',\n  'velocity'},\n 3: {'avg_frames', 'max', 'min', 'shape'},\n 4: set()}"
     },
     "execution_count": 9,
     "metadata": {},
     "output_type": "execute_result"
    }
   ],
   "source": [
    "show_keys_levelwise(metadata)"
   ],
   "metadata": {
    "collapsed": false,
    "ExecuteTime": {
     "start_time": "2024-11-27T14:55:24.012099Z"
    }
   },
   "id": "d403a2ba53c22bcc"
  },
  {
   "cell_type": "code",
   "execution_count": 26,
   "outputs": [
    {
     "data": {
      "text/plain": "{'1-look': {'objects': {'cane-sugar',\n   'chia-seed',\n   'chickpea',\n   'detergent',\n   'empty',\n   'glass-bead',\n   'kidney-bean',\n   'metal-nut-bolt',\n   'plastic-bead',\n   'salt',\n   'split-green-pea',\n   'styrofoam-bead',\n   'water',\n   'wheat',\n   'wooden-button'},\n  'tools': {'metal-scissor',\n   'metal-whisk',\n   'plastic-knife',\n   'plastic-spoon',\n   'wooden-chopstick',\n   'wooden-fork'},\n  'trials': {'trial-0',\n   'trial-1',\n   'trial-2',\n   'trial-3',\n   'trial-4',\n   'trial-5',\n   'trial-6',\n   'trial-7',\n   'trial-8',\n   'trial-9'},\n  'modalities': {'audio': {'avg_frames': 109,\n    'shape': (60,),\n    'min': -100.0,\n    'max': 44.311337},\n   'camera_depth_image': {'avg_frames': 15,\n    'shape': (480, 640),\n    'min': 0,\n    'max': 255},\n   'camera_rgb_image': {'avg_frames': 15,\n    'shape': (480, 640, 3),\n    'min': 0,\n    'max': 255},\n   'gripper_joint_states': {'avg_frames': 31,\n    'shape': (2,),\n    'min': array([0., 0.]),\n    'max': array([0., 0.])},\n   'position': {'avg_frames': 124,\n    'shape': (6,),\n    'min': array([ 2.2789  , -0.692684, -0.778335,  3.30931 , -4.18587 ,  3.86888 ]),\n    'max': array([ 2.33603 , -0.384343, -0.56221 ,  3.70372 , -4.07144 ,  4.08939 ])},\n   'velocity': {'avg_frames': 124,\n    'shape': (6,),\n    'min': array([-0.00021731, -0.00012783, -0.00020453, -0.0268207 , -0.0446772 ,\n           -0.0204451 ]),\n    'max': array([0.00020453, 0.00037071, 0.0024288 , 0.0308474 , 0.0467385 ,\n           0.028139  ])},\n   'effort': {'avg_frames': 124,\n    'shape': (6,),\n    'min': array([-0.0919142,  1.18816  ,  1.52443  , -0.0335509, -0.567315 ,\n           -0.520039 ]),\n    'max': array([1.85846 , 3.00627 , 3.1206  , 0.690844, 0.56274 , 0.411761])},\n   'touch_image': {'avg_frames': 27,\n    'shape': (320, 240, 3),\n    'min': 0,\n    'max': 255},\n   'force': {'avg_frames': 124,\n    'shape': (3,),\n    'min': array([-18.5853, -31.268 , -52.0554]),\n    'max': array([32.125 , 33.4346, 43.192 ])},\n   'torque': {'avg_frames': 124,\n    'shape': (3,),\n    'min': array([-11.5521 , -12.299  ,  -3.87104]),\n    'max': array([15.8222 , 10.3214 ,  4.88898])}}},\n '2-stirring-slow': {'objects': {'cane-sugar',\n   'chia-seed',\n   'chickpea',\n   'detergent',\n   'empty',\n   'glass-bead',\n   'kidney-bean',\n   'metal-nut-bolt',\n   'plastic-bead',\n   'salt',\n   'split-green-pea',\n   'styrofoam-bead',\n   'water',\n   'wheat',\n   'wooden-button'},\n  'tools': {'metal-scissor',\n   'metal-whisk',\n   'plastic-knife',\n   'plastic-spoon',\n   'wooden-chopstick',\n   'wooden-fork'},\n  'trials': {'trial-0',\n   'trial-1',\n   'trial-2',\n   'trial-3',\n   'trial-4',\n   'trial-5',\n   'trial-6',\n   'trial-7',\n   'trial-8',\n   'trial-9'},\n  'modalities': {'audio': {'avg_frames': 4349,\n    'shape': (60,),\n    'min': -95.47243,\n    'max': 62.935516},\n   'camera_depth_image': {'avg_frames': 757,\n    'shape': (480, 640),\n    'min': 0,\n    'max': 255},\n   'camera_rgb_image': {'avg_frames': 757,\n    'shape': (480, 640, 3),\n    'min': 0,\n    'max': 255},\n   'gripper_joint_states': {'avg_frames': 1577,\n    'shape': (2,),\n    'min': array([0.61674, 0.     ]),\n    'max': array([0.8, 0. ])},\n   'position': {'avg_frames': 6283,\n    'shape': (6,),\n    'min': array([ 2.16771 , -0.916868, -0.888088,  3.56144 , -4.25114 ,  3.9033  ]),\n    'max': array([ 2.35933 , -0.544557, -0.593928,  3.98707 , -4.08695 ,  4.18943 ])},\n   'velocity': {'avg_frames': 6283,\n    'shape': (6,),\n    'min': array([-0.072046 , -0.0863631, -0.0661529, -0.0676629, -0.0606881,\n           -0.0778495]),\n    'max': array([0.0835253, 0.0714452, 0.0637753, 0.0716657, 0.0605443, 0.0758122])},\n   'effort': {'avg_frames': 6283,\n    'shape': (6,),\n    'min': array([-1.11866 , -0.246599,  0.493198, -0.683218, -0.800647, -0.776246]),\n    'max': array([2.5041  , 3.58914 , 3.56224 , 1.30849 , 0.92265 , 0.805222])},\n   'touch_image': {'avg_frames': 1539,\n    'shape': (320, 240, 3),\n    'min': 0,\n    'max': 255},\n   'force': {'avg_frames': 6285,\n    'shape': (3,),\n    'min': array([-78.7613, -82.5508, -85.2366]),\n    'max': array([130.489 , 108.654 ,  61.5656])},\n   'torque': {'avg_frames': 6285,\n    'shape': (3,),\n    'min': array([-25.07   , -38.9557 ,  -7.37648]),\n    'max': array([38.0226 , 27.8528 ,  6.83394])}}},\n '3-stirring-fast': {'objects': {'cane-sugar',\n   'chia-seed',\n   'chickpea',\n   'detergent',\n   'empty',\n   'glass-bead',\n   'kidney-bean',\n   'metal-nut-bolt',\n   'plastic-bead',\n   'salt',\n   'split-green-pea',\n   'styrofoam-bead',\n   'water',\n   'wheat',\n   'wooden-button'},\n  'tools': {'metal-scissor',\n   'metal-whisk',\n   'plastic-knife',\n   'plastic-spoon',\n   'wooden-chopstick',\n   'wooden-fork'},\n  'trials': {'trial-0',\n   'trial-1',\n   'trial-2',\n   'trial-3',\n   'trial-4',\n   'trial-5',\n   'trial-6',\n   'trial-7',\n   'trial-8',\n   'trial-9'},\n  'modalities': {'audio': {'avg_frames': 1766,\n    'shape': (60,),\n    'min': -78.39516,\n    'max': 63.32407},\n   'camera_depth_image': {'avg_frames': 307,\n    'shape': (480, 640),\n    'min': 0,\n    'max': 255},\n   'camera_rgb_image': {'avg_frames': 307,\n    'shape': (480, 640, 3),\n    'min': 0,\n    'max': 255},\n   'gripper_joint_states': {'avg_frames': 640,\n    'shape': (2,),\n    'min': array([0.61674, 0.     ]),\n    'max': array([0.8, 0. ])},\n   'position': {'avg_frames': 2553,\n    'shape': (6,),\n    'min': array([ 2.16683 , -0.917622, -0.889167,  3.56126 , -4.25175 ,  3.90321 ]),\n    'max': array([ 2.35985 , -0.544234, -0.593833,  3.98724 , -4.08698 ,  4.19025 ])},\n   'velocity': {'avg_frames': 2553,\n    'shape': (6,),\n    'min': array([-0.21229  , -0.259217 , -0.200095 , -0.0817804, -0.12188  ,\n           -0.201119 ]),\n    'max': array([0.260879 , 0.206141 , 0.193524 , 0.0736311, 0.114425 , 0.209628 ])},\n   'effort': {'avg_frames': 2553,\n    'shape': (6,),\n    'min': array([-6.3107  , -0.253325,  0.121058, -0.661868, -0.823522, -0.704569]),\n    'max': array([3.76176 , 6.96755 , 3.70123 , 1.32526 , 0.876899, 0.667968])},\n   'touch_image': {'avg_frames': 623,\n    'shape': (320, 240, 3),\n    'min': 0,\n    'max': 255},\n   'force': {'avg_frames': 2553,\n    'shape': (3,),\n    'min': array([-254.77 , -257.729, -146.133]),\n    'max': array([291.837, 221.226, 140.591])},\n   'torque': {'avg_frames': 2553,\n    'shape': (3,),\n    'min': array([-77.529  , -93.0603 ,  -7.25763]),\n    'max': array([69.6363, 77.2968,  7.2641])}}},\n '4-stirring-twist': {'objects': {'cane-sugar',\n   'chia-seed',\n   'chickpea',\n   'detergent',\n   'empty',\n   'glass-bead',\n   'kidney-bean',\n   'metal-nut-bolt',\n   'plastic-bead',\n   'salt',\n   'split-green-pea',\n   'styrofoam-bead',\n   'water',\n   'wheat',\n   'wooden-button'},\n  'tools': {'metal-scissor',\n   'metal-whisk',\n   'plastic-knife',\n   'plastic-spoon',\n   'wooden-chopstick',\n   'wooden-fork'},\n  'trials': {'trial-0',\n   'trial-1',\n   'trial-2',\n   'trial-3',\n   'trial-4',\n   'trial-5',\n   'trial-6',\n   'trial-7',\n   'trial-8',\n   'trial-9'},\n  'modalities': {'audio': {'avg_frames': 6501,\n    'shape': (60,),\n    'min': -82.414856,\n    'max': 61.82095},\n   'camera_depth_image': {'avg_frames': 1131,\n    'shape': (480, 640),\n    'min': 0,\n    'max': 255},\n   'camera_rgb_image': {'avg_frames': 1131,\n    'shape': (480, 640, 3),\n    'min': 0,\n    'max': 255},\n   'gripper_joint_states': {'avg_frames': 2358,\n    'shape': (2,),\n    'min': array([0.61674, 0.     ]),\n    'max': array([0.8, 0. ])},\n   'position': {'avg_frames': 9392,\n    'shape': (6,),\n    'min': array([ 2.18031 , -0.902823, -0.874897,  3.56494 , -4.24309 ,  3.16859 ]),\n    'max': array([ 2.34618 , -0.55397 , -0.605835,  3.98492 , -4.09271 ,  5.1129  ])},\n   'velocity': {'avg_frames': 9392,\n    'shape': (6,),\n    'min': array([-0.040267 , -0.0648235, -0.0381578, -0.0635643, -0.0626296,\n           -1.53317  ]),\n    'max': array([0.066383 , 0.0452908, 0.0341566, 0.0627494, 0.0722169, 1.53122  ])},\n   'effort': {'avg_frames': 9392,\n    'shape': (6,),\n    'min': array([-0.625465 , -0.107607 ,  0.0582871, -0.745745 , -0.666443 ,\n           -4.20149  ]),\n    'max': array([2.43909, 3.13405, 3.60035, 1.19716, 1.47319, 4.27469])},\n   'touch_image': {'avg_frames': 2302,\n    'shape': (320, 240, 3),\n    'min': 0,\n    'max': 255},\n   'force': {'avg_frames': 9395,\n    'shape': (3,),\n    'min': array([-102.782, -114.58 , -117.491]),\n    'max': array([127.268 , 121.184 ,  94.5285])},\n   'torque': {'avg_frames': 9395,\n    'shape': (3,),\n    'min': array([-46.9965, -45.6017, -38.2933]),\n    'max': array([43.9977, 35.0768, 37.6017])}}},\n '5-whisk': {'objects': {'cane-sugar',\n   'chia-seed',\n   'chickpea',\n   'detergent',\n   'empty',\n   'glass-bead',\n   'kidney-bean',\n   'metal-nut-bolt',\n   'plastic-bead',\n   'salt',\n   'split-green-pea',\n   'styrofoam-bead',\n   'water',\n   'wheat',\n   'wooden-button'},\n  'tools': {'metal-scissor',\n   'metal-whisk',\n   'plastic-knife',\n   'plastic-spoon',\n   'wooden-chopstick',\n   'wooden-fork'},\n  'trials': {'trial-0',\n   'trial-1',\n   'trial-2',\n   'trial-3',\n   'trial-4',\n   'trial-5',\n   'trial-6',\n   'trial-7',\n   'trial-8',\n   'trial-9'},\n  'modalities': {'audio': {'avg_frames': 7793,\n    'shape': (60,),\n    'min': -87.687744,\n    'max': 61.985588},\n   'camera_depth_image': {'avg_frames': 1356,\n    'shape': (480, 640),\n    'min': 0,\n    'max': 255},\n   'camera_rgb_image': {'avg_frames': 1356,\n    'shape': (480, 640, 3),\n    'min': 0,\n    'max': 255},\n   'gripper_joint_states': {'avg_frames': 2827,\n    'shape': (2,),\n    'min': array([0.61674, 0.     ]),\n    'max': array([0.8, 0. ])},\n   'position': {'avg_frames': 11254,\n    'shape': (6,),\n    'min': array([ 2.17869 , -0.905063, -0.877773,  3.56447 , -4.24518 ,  3.91459 ]),\n    'max': array([ 2.34731 , -0.553072, -0.604566,  3.98535 , -4.09227 ,  4.18019 ])},\n   'velocity': {'avg_frames': 11254,\n    'shape': (6,),\n    'min': array([-0.409509, -0.393671, -0.381296, -0.133241, -0.228779, -0.3863  ]),\n    'max': array([0.410276, 0.398886, 0.382242, 0.130604, 0.220773, 0.391573])},\n   'effort': {'avg_frames': 11254,\n    'shape': (6,),\n    'min': array([-0.892241, -0.784634,  0.291435, -0.664918, -0.73812 , -0.699994]),\n    'max': array([2.96592 , 3.47032 , 3.74607 , 1.48081 , 0.944   , 0.800647])},\n   'touch_image': {'avg_frames': 2760,\n    'shape': (320, 240, 3),\n    'min': 0,\n    'max': 255},\n   'force': {'avg_frames': 11258,\n    'shape': (3,),\n    'min': array([-57.571 , -46.2053, -78.6595]),\n    'max': array([55.8976, 53.0671, 31.5616])},\n   'torque': {'avg_frames': 11258,\n    'shape': (3,),\n    'min': array([-14.786  , -23.1452 ,  -6.21183]),\n    'max': array([14.82   , 14.2281 ,  6.25931])}}},\n '6-poke': {'objects': {'cane-sugar',\n   'chia-seed',\n   'chickpea',\n   'detergent',\n   'empty',\n   'glass-bead',\n   'kidney-bean',\n   'metal-nut-bolt',\n   'plastic-bead',\n   'salt',\n   'split-green-pea',\n   'styrofoam-bead',\n   'water',\n   'wheat',\n   'wooden-button'},\n  'tools': {'metal-scissor',\n   'metal-whisk',\n   'plastic-knife',\n   'plastic-spoon',\n   'wooden-chopstick',\n   'wooden-fork'},\n  'trials': {'trial-0',\n   'trial-1',\n   'trial-2',\n   'trial-3',\n   'trial-4',\n   'trial-5',\n   'trial-6',\n   'trial-7',\n   'trial-8',\n   'trial-9'},\n  'modalities': {'audio': {'avg_frames': 4382,\n    'shape': (60,),\n    'min': -85.86554,\n    'max': 49.043205},\n   'camera_depth_image': {'avg_frames': 762,\n    'shape': (480, 640),\n    'min': 0,\n    'max': 255},\n   'camera_rgb_image': {'avg_frames': 762,\n    'shape': (480, 640, 3),\n    'min': 0,\n    'max': 255},\n   'gripper_joint_states': {'avg_frames': 1590,\n    'shape': (2,),\n    'min': array([0.61674, 0.     ]),\n    'max': array([0.8, 0. ])},\n   'position': {'avg_frames': 6332,\n    'shape': (6,),\n    'min': array([ 2.16701 , -0.910546, -0.888723,  3.30932 , -4.25155 ,  3.86888 ]),\n    'max': array([ 2.35973 , -0.384332, -0.56221 ,  3.98606 , -4.07166 ,  4.19006 ])},\n   'velocity': {'avg_frames': 6332,\n    'shape': (6,),\n    'min': array([-0.0701796, -0.105269 , -0.0673162, -0.214206 , -0.056973 ,\n           -0.139688 ]),\n    'max': array([0.136192 , 0.205605 , 0.126247 , 0.115887 , 0.0716177, 0.0759081])},\n   'effort': {'avg_frames': 6332,\n    'shape': (6,),\n    'min': array([-1.22179 , -1.21954 , -0.508891, -0.555115, -0.733545, -0.75642 ]),\n    'max': array([2.39874 , 3.75727 , 3.45911 , 1.16666 , 0.672543, 0.806747])},\n   'touch_image': {'avg_frames': 1551,\n    'shape': (320, 240, 3),\n    'min': 0,\n    'max': 255},\n   'force': {'avg_frames': 6334,\n    'shape': (3,),\n    'min': array([ -41.2694,  -56.2178, -183.545 ]),\n    'max': array([ 71.2291,  57.3469, 134.283 ])},\n   'torque': {'avg_frames': 6334,\n    'shape': (3,),\n    'min': array([-25.8377 , -36.7909 ,  -7.82121]),\n    'max': array([32.9242 , 16.8813 ,  6.84315])}}}}"
     },
     "execution_count": 26,
     "metadata": {},
     "output_type": "execute_result"
    }
   ],
   "source": [
    "metadata"
   ],
   "metadata": {
    "collapsed": false,
    "ExecuteTime": {
     "end_time": "2024-11-27T15:02:31.832239Z",
     "start_time": "2024-11-27T15:02:31.825213Z"
    }
   },
   "id": "69dd28501beb9782"
  },
  {
   "cell_type": "code",
   "execution_count": null,
   "outputs": [],
   "source": [],
   "metadata": {
    "collapsed": false
   },
   "id": "9583937eab3068d0"
  }
 ],
 "metadata": {
  "kernelspec": {
   "display_name": "Python 3",
   "language": "python",
   "name": "python3"
  },
  "language_info": {
   "codemirror_mode": {
    "name": "ipython",
    "version": 2
   },
   "file_extension": ".py",
   "mimetype": "text/x-python",
   "name": "python",
   "nbconvert_exporter": "python",
   "pygments_lexer": "ipython2",
   "version": "2.7.6"
  }
 },
 "nbformat": 4,
 "nbformat_minor": 5
}
